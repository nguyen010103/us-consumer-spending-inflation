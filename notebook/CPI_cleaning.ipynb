{
 "cells": [
  {
   "cell_type": "code",
   "execution_count": 13,
   "id": "e9f98f4f",
   "metadata": {},
   "outputs": [],
   "source": [
    "import pandas as pd\n",
    "import numpy as np "
   ]
  },
  {
   "cell_type": "code",
   "execution_count": 15,
   "id": "6fa1f999",
   "metadata": {},
   "outputs": [
    {
     "name": "stdout",
     "output_type": "stream",
     "text": [
      "Initial shape: (183, 4)\n",
      "Missing values per column:\n",
      " realtime_start    0\n",
      "realtime_end      0\n",
      "date              0\n",
      "value             0\n",
      "dtype: int64\n",
      "Cleaned file saved to: /Users/anhnguyendo/Documents/Python machine learning/US CPI project/us-consumer-spending-inflation/data/processed/CPIAUCSL.csv\n",
      "Initial shape: (183, 4)\n",
      "Missing values per column:\n",
      " realtime_start    0\n",
      "realtime_end      0\n",
      "date              0\n",
      "value             0\n",
      "dtype: int64\n",
      "Cleaned file saved to: /Users/anhnguyendo/Documents/Python machine learning/US CPI project/us-consumer-spending-inflation/data/processed/CPIENGSL.csv\n",
      "Initial shape: (183, 4)\n",
      "Missing values per column:\n",
      " realtime_start    0\n",
      "realtime_end      0\n",
      "date              0\n",
      "value             0\n",
      "dtype: int64\n",
      "Cleaned file saved to: /Users/anhnguyendo/Documents/Python machine learning/US CPI project/us-consumer-spending-inflation/data/processed/CPIFABSL.csv\n",
      "Initial shape: (183, 4)\n",
      "Missing values per column:\n",
      " realtime_start    0\n",
      "realtime_end      0\n",
      "date              0\n",
      "value             0\n",
      "dtype: int64\n",
      "Cleaned file saved to: /Users/anhnguyendo/Documents/Python machine learning/US CPI project/us-consumer-spending-inflation/data/processed/CPIHOSSL.csv\n"
     ]
    }
   ],
   "source": [
    "import sys\n",
    "import os\n",
    "\n",
    "#add the parent folder of \"scripts\" to the Python path\n",
    "sys.path.append(os.path.abspath('/Users/anhnguyendo/Documents/Python machine learning/US CPI project/us-consumer-spending-inflation/scripts'))\n",
    "\n",
    "#import function from scripts file\n",
    "from save_csv_file import drop_and_save\n",
    "\n",
    "#execute the function\n",
    "CPI_list = ['CPIAUCSL.csv','CPIENGSL.csv','CPIFABSL.csv','CPIHOSSL.csv']\n",
    "for files in CPI_list:\n",
    "    drop_and_save(files)"
   ]
  }
 ],
 "metadata": {
  "kernelspec": {
   "display_name": "myenv",
   "language": "python",
   "name": "python3"
  },
  "language_info": {
   "codemirror_mode": {
    "name": "ipython",
    "version": 3
   },
   "file_extension": ".py",
   "mimetype": "text/x-python",
   "name": "python",
   "nbconvert_exporter": "python",
   "pygments_lexer": "ipython3",
   "version": "3.12.9"
  }
 },
 "nbformat": 4,
 "nbformat_minor": 5
}
