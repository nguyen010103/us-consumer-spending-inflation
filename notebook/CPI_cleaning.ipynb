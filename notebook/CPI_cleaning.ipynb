{
 "cells": [
  {
   "cell_type": "code",
   "execution_count": 1,
   "id": "e9f98f4f",
   "metadata": {},
   "outputs": [],
   "source": [
    "import pandas as pd\n",
    "import numpy as np "
   ]
  },
  {
   "cell_type": "code",
   "execution_count": 2,
   "id": "501ac357",
   "metadata": {},
   "outputs": [],
   "source": [
    "CPI_AUCSL_pd = pd.read_csv('/Users/anhnguyendo/Documents/Python machine learning/US CPI project/us-consumer-spending-inflation/data/raw/CPIAUCSL.csv')"
   ]
  },
  {
   "cell_type": "code",
   "execution_count": 3,
   "id": "609c1752",
   "metadata": {},
   "outputs": [
    {
     "data": {
      "text/html": [
       "<div>\n",
       "<style scoped>\n",
       "    .dataframe tbody tr th:only-of-type {\n",
       "        vertical-align: middle;\n",
       "    }\n",
       "\n",
       "    .dataframe tbody tr th {\n",
       "        vertical-align: top;\n",
       "    }\n",
       "\n",
       "    .dataframe thead th {\n",
       "        text-align: right;\n",
       "    }\n",
       "</style>\n",
       "<table border=\"1\" class=\"dataframe\">\n",
       "  <thead>\n",
       "    <tr style=\"text-align: right;\">\n",
       "      <th></th>\n",
       "      <th>realtime_start</th>\n",
       "      <th>realtime_end</th>\n",
       "      <th>date</th>\n",
       "      <th>value</th>\n",
       "    </tr>\n",
       "  </thead>\n",
       "  <tbody>\n",
       "    <tr>\n",
       "      <th>0</th>\n",
       "      <td>2025-04-21</td>\n",
       "      <td>2025-04-21</td>\n",
       "      <td>2010-01-01</td>\n",
       "      <td>217.488</td>\n",
       "    </tr>\n",
       "    <tr>\n",
       "      <th>1</th>\n",
       "      <td>2025-04-21</td>\n",
       "      <td>2025-04-21</td>\n",
       "      <td>2010-02-01</td>\n",
       "      <td>217.281</td>\n",
       "    </tr>\n",
       "    <tr>\n",
       "      <th>2</th>\n",
       "      <td>2025-04-21</td>\n",
       "      <td>2025-04-21</td>\n",
       "      <td>2010-03-01</td>\n",
       "      <td>217.353</td>\n",
       "    </tr>\n",
       "    <tr>\n",
       "      <th>3</th>\n",
       "      <td>2025-04-21</td>\n",
       "      <td>2025-04-21</td>\n",
       "      <td>2010-04-01</td>\n",
       "      <td>217.403</td>\n",
       "    </tr>\n",
       "    <tr>\n",
       "      <th>4</th>\n",
       "      <td>2025-04-21</td>\n",
       "      <td>2025-04-21</td>\n",
       "      <td>2010-05-01</td>\n",
       "      <td>217.290</td>\n",
       "    </tr>\n",
       "  </tbody>\n",
       "</table>\n",
       "</div>"
      ],
      "text/plain": [
       "  realtime_start realtime_end        date    value\n",
       "0     2025-04-21   2025-04-21  2010-01-01  217.488\n",
       "1     2025-04-21   2025-04-21  2010-02-01  217.281\n",
       "2     2025-04-21   2025-04-21  2010-03-01  217.353\n",
       "3     2025-04-21   2025-04-21  2010-04-01  217.403\n",
       "4     2025-04-21   2025-04-21  2010-05-01  217.290"
      ]
     },
     "execution_count": 3,
     "metadata": {},
     "output_type": "execute_result"
    }
   ],
   "source": [
    "CPI_AUCSL_pd.head()"
   ]
  },
  {
   "cell_type": "code",
   "execution_count": null,
   "id": "943edf39",
   "metadata": {},
   "outputs": [],
   "source": []
  }
 ],
 "metadata": {
  "kernelspec": {
   "display_name": "myenv",
   "language": "python",
   "name": "python3"
  },
  "language_info": {
   "codemirror_mode": {
    "name": "ipython",
    "version": 3
   },
   "file_extension": ".py",
   "mimetype": "text/x-python",
   "name": "python",
   "nbconvert_exporter": "python",
   "pygments_lexer": "ipython3",
   "version": "3.12.9"
  }
 },
 "nbformat": 4,
 "nbformat_minor": 5
}
