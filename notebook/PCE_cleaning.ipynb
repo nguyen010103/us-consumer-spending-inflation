{
 "cells": [
  {
   "cell_type": "code",
   "execution_count": 1,
   "id": "bbe10825",
   "metadata": {},
   "outputs": [],
   "source": [
    "import pandas as pd\n",
    "import numpy as np"
   ]
  },
  {
   "cell_type": "code",
   "execution_count": 6,
   "id": "e8030d21",
   "metadata": {},
   "outputs": [
    {
     "data": {
      "text/html": [
       "<div>\n",
       "<style scoped>\n",
       "    .dataframe tbody tr th:only-of-type {\n",
       "        vertical-align: middle;\n",
       "    }\n",
       "\n",
       "    .dataframe tbody tr th {\n",
       "        vertical-align: top;\n",
       "    }\n",
       "\n",
       "    .dataframe thead th {\n",
       "        text-align: right;\n",
       "    }\n",
       "</style>\n",
       "<table border=\"1\" class=\"dataframe\">\n",
       "  <thead>\n",
       "    <tr style=\"text-align: right;\">\n",
       "      <th></th>\n",
       "      <th>realtime_start</th>\n",
       "      <th>realtime_end</th>\n",
       "      <th>date</th>\n",
       "      <th>value</th>\n",
       "    </tr>\n",
       "  </thead>\n",
       "  <tbody>\n",
       "    <tr>\n",
       "      <th>0</th>\n",
       "      <td>2025-03-28</td>\n",
       "      <td>2025-03-28</td>\n",
       "      <td>2010-01-01</td>\n",
       "      <td>10056.1</td>\n",
       "    </tr>\n",
       "    <tr>\n",
       "      <th>1</th>\n",
       "      <td>2025-03-28</td>\n",
       "      <td>2025-03-28</td>\n",
       "      <td>2010-02-01</td>\n",
       "      <td>10093.4</td>\n",
       "    </tr>\n",
       "    <tr>\n",
       "      <th>2</th>\n",
       "      <td>2025-03-28</td>\n",
       "      <td>2025-03-28</td>\n",
       "      <td>2010-03-01</td>\n",
       "      <td>10156.0</td>\n",
       "    </tr>\n",
       "    <tr>\n",
       "      <th>3</th>\n",
       "      <td>2025-03-28</td>\n",
       "      <td>2025-03-28</td>\n",
       "      <td>2010-04-01</td>\n",
       "      <td>10182.3</td>\n",
       "    </tr>\n",
       "    <tr>\n",
       "      <th>4</th>\n",
       "      <td>2025-03-28</td>\n",
       "      <td>2025-03-28</td>\n",
       "      <td>2010-05-01</td>\n",
       "      <td>10210.8</td>\n",
       "    </tr>\n",
       "  </tbody>\n",
       "</table>\n",
       "</div>"
      ],
      "text/plain": [
       "  realtime_start realtime_end        date    value\n",
       "0     2025-03-28   2025-03-28  2010-01-01  10056.1\n",
       "1     2025-03-28   2025-03-28  2010-02-01  10093.4\n",
       "2     2025-03-28   2025-03-28  2010-03-01  10156.0\n",
       "3     2025-03-28   2025-03-28  2010-04-01  10182.3\n",
       "4     2025-03-28   2025-03-28  2010-05-01  10210.8"
      ]
     },
     "execution_count": 6,
     "metadata": {},
     "output_type": "execute_result"
    }
   ],
   "source": [
    "file = '/Users/anhnguyendo/Documents/Python machine learning/US CPI project/us-consumer-spending-inflation/data/raw/PCE.csv'\n",
    "PCE_df = pd.read_csv(file)\n",
    "PCE_df.head()"
   ]
  },
  {
   "cell_type": "code",
   "execution_count": 8,
   "id": "068c360c",
   "metadata": {},
   "outputs": [
    {
     "data": {
      "text/plain": [
       "realtime_start     object\n",
       "realtime_end       object\n",
       "date               object\n",
       "value             float64\n",
       "dtype: object"
      ]
     },
     "execution_count": 8,
     "metadata": {},
     "output_type": "execute_result"
    }
   ],
   "source": [
    "PCE_df.dtypes"
   ]
  },
  {
   "cell_type": "code",
   "execution_count": 10,
   "id": "26fa8742",
   "metadata": {},
   "outputs": [
    {
     "data": {
      "text/plain": [
       "realtime_start    0\n",
       "realtime_end      0\n",
       "date              0\n",
       "value             0\n",
       "dtype: int64"
      ]
     },
     "execution_count": 10,
     "metadata": {},
     "output_type": "execute_result"
    }
   ],
   "source": [
    "PCE_df.isnull().sum()"
   ]
  },
  {
   "cell_type": "code",
   "execution_count": 11,
   "id": "93e81cae",
   "metadata": {},
   "outputs": [],
   "source": [
    "#drop the realtime_start and realtime_end\n",
    "PCE_df.drop(['realtime_start','realtime_end'], axis =1 , inplace = True)"
   ]
  },
  {
   "cell_type": "code",
   "execution_count": 13,
   "id": "3508979e",
   "metadata": {},
   "outputs": [
    {
     "data": {
      "text/html": [
       "<div>\n",
       "<style scoped>\n",
       "    .dataframe tbody tr th:only-of-type {\n",
       "        vertical-align: middle;\n",
       "    }\n",
       "\n",
       "    .dataframe tbody tr th {\n",
       "        vertical-align: top;\n",
       "    }\n",
       "\n",
       "    .dataframe thead th {\n",
       "        text-align: right;\n",
       "    }\n",
       "</style>\n",
       "<table border=\"1\" class=\"dataframe\">\n",
       "  <thead>\n",
       "    <tr style=\"text-align: right;\">\n",
       "      <th></th>\n",
       "      <th>date</th>\n",
       "      <th>value</th>\n",
       "    </tr>\n",
       "  </thead>\n",
       "  <tbody>\n",
       "    <tr>\n",
       "      <th>0</th>\n",
       "      <td>2010-01-01</td>\n",
       "      <td>10056.1</td>\n",
       "    </tr>\n",
       "    <tr>\n",
       "      <th>1</th>\n",
       "      <td>2010-02-01</td>\n",
       "      <td>10093.4</td>\n",
       "    </tr>\n",
       "    <tr>\n",
       "      <th>2</th>\n",
       "      <td>2010-03-01</td>\n",
       "      <td>10156.0</td>\n",
       "    </tr>\n",
       "    <tr>\n",
       "      <th>3</th>\n",
       "      <td>2010-04-01</td>\n",
       "      <td>10182.3</td>\n",
       "    </tr>\n",
       "    <tr>\n",
       "      <th>4</th>\n",
       "      <td>2010-05-01</td>\n",
       "      <td>10210.8</td>\n",
       "    </tr>\n",
       "  </tbody>\n",
       "</table>\n",
       "</div>"
      ],
      "text/plain": [
       "         date    value\n",
       "0  2010-01-01  10056.1\n",
       "1  2010-02-01  10093.4\n",
       "2  2010-03-01  10156.0\n",
       "3  2010-04-01  10182.3\n",
       "4  2010-05-01  10210.8"
      ]
     },
     "execution_count": 13,
     "metadata": {},
     "output_type": "execute_result"
    }
   ],
   "source": [
    "PCE_df.head()"
   ]
  },
  {
   "cell_type": "code",
   "execution_count": 19,
   "id": "17ae4c8c",
   "metadata": {},
   "outputs": [],
   "source": [
    "import os\n",
    "direction = '/Users/anhnguyendo/Documents/Python machine learning/US CPI project/us-consumer-spending-inflation/data/processed'\n",
    "os.makedirs(direction, exist_ok = True)\n",
    "PCE_df.to_csv(f'{direction}/PCE_clean.csv', index = False)"
   ]
  }
 ],
 "metadata": {
  "kernelspec": {
   "display_name": "myenv",
   "language": "python",
   "name": "python3"
  },
  "language_info": {
   "codemirror_mode": {
    "name": "ipython",
    "version": 3
   },
   "file_extension": ".py",
   "mimetype": "text/x-python",
   "name": "python",
   "nbconvert_exporter": "python",
   "pygments_lexer": "ipython3",
   "version": "3.12.9"
  }
 },
 "nbformat": 4,
 "nbformat_minor": 5
}
