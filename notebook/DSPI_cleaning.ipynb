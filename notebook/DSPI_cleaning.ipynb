{
 "cells": [
  {
   "cell_type": "code",
   "execution_count": 2,
   "id": "d204c927",
   "metadata": {},
   "outputs": [
    {
     "name": "stdout",
     "output_type": "stream",
     "text": [
      "Initial shape: (182, 4)\n",
      "Missing values per column:\n",
      " realtime_start    0\n",
      "realtime_end      0\n",
      "date              0\n",
      "value             0\n",
      "dtype: int64\n",
      "✅ Cleaned file saved to: /Users/anhnguyendo/Documents/Python machine learning/US CPI project/us-consumer-spending-inflation/data/processed/DSPI_cleaned.csv\n"
     ]
    }
   ],
   "source": [
    "import sys\n",
    "import os\n",
    "\n",
    "#add the parent folder of \"scripts\" to the Python path\n",
    "sys.path.append(os.path.abspath('/Users/anhnguyendo/Documents/Python machine learning/US CPI project/us-consumer-spending-inflation/scripts'))\n",
    "\n",
    "#import function from scripts file\n",
    "from save_csv_file import drop_and_save\n",
    "\n",
    "drop_and_save('DSPI.csv')"
   ]
  },
  {
   "cell_type": "code",
   "execution_count": 4,
   "id": "be15e89c",
   "metadata": {},
   "outputs": [
    {
     "name": "stdout",
     "output_type": "stream",
     "text": [
      "Initial shape: (182, 4)\n",
      "Missing values per column:\n",
      " realtime_start    0\n",
      "realtime_end      0\n",
      "date              0\n",
      "value             0\n",
      "dtype: int64\n",
      "✅ Cleaned file saved to: /Users/anhnguyendo/Documents/Python machine learning/US CPI project/us-consumer-spending-inflation/data/processed/PCEPILFE_cleaned.csv\n"
     ]
    }
   ],
   "source": [
    "drop_and_save('PCEPILFE.csv')"
   ]
  },
  {
   "cell_type": "code",
   "execution_count": null,
   "id": "63b3f626",
   "metadata": {},
   "outputs": [],
   "source": []
  }
 ],
 "metadata": {
  "kernelspec": {
   "display_name": "myenv",
   "language": "python",
   "name": "python3"
  },
  "language_info": {
   "codemirror_mode": {
    "name": "ipython",
    "version": 3
   },
   "file_extension": ".py",
   "mimetype": "text/x-python",
   "name": "python",
   "nbconvert_exporter": "python",
   "pygments_lexer": "ipython3",
   "version": "3.12.9"
  }
 },
 "nbformat": 4,
 "nbformat_minor": 5
}
